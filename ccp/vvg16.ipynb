{
 "cells": [
  {
   "cell_type": "code",
   "execution_count": 1,
   "metadata": {},
   "outputs": [],
   "source": [
    "import numpy as np\n",
    "import pandas as pd\n",
    "import matplotlib.pyplot as plt\n",
    "import seaborn as sn\n",
    "import tensorflow \n",
    "from sklearn import metrics\n",
    "\n",
    "import tensorflow as tf\n",
    "\n",
    "from keras.preprocessing.image import ImageDataGenerator\n",
    "from keras.metrics import BinaryAccuracy, BinaryCrossentropy, Precision, Recall, Accuracy, AUC\n",
    "from keras.models import Sequential\n",
    "from keras.layers import  BatchNormalization, Dropout, Flatten, Dense, Activation\n",
    "from keras.callbacks import EarlyStopping, ModelCheckpoint\n",
    "from keras.applications.vgg16 import VGG16\n",
    "from keras import optimizers\n",
    "from tensorflow.keras.optimizers import Adam\n",
    "from keras.callbacks import Callback,ModelCheckpoint,ReduceLROnPlateau\n",
    "\n",
    "import keras.backend as K"
   ]
  },
  {
   "cell_type": "code",
   "execution_count": 2,
   "metadata": {},
   "outputs": [],
   "source": [
    "train_data = ImageDataGenerator(\n",
    "    rescale = 1./255,\n",
    "    validation_split = 0.20,\n",
    "    horizontal_flip=True,\n",
    "    vertical_flip=True,\n",
    "    fill_mode='nearest')\n",
    "\n",
    "valid_data = ImageDataGenerator(\n",
    "    rescale = 1./255,\n",
    "    validation_split = 0.2)\n",
    "\n",
    "test_data = ImageDataGenerator(\n",
    "    rescale = 1./255)"
   ]
  },
  {
   "cell_type": "code",
   "execution_count": 3,
   "metadata": {},
   "outputs": [],
   "source": [
    "size = (224,224)\n",
    "class_name = 'categorical'\n",
    "batch = 32"
   ]
  },
  {
   "cell_type": "code",
   "execution_count": 4,
   "metadata": {},
   "outputs": [
    {
     "name": "stdout",
     "output_type": "stream",
     "text": [
      "Found 613 images belonging to 4 classes.\n"
     ]
    }
   ],
   "source": [
    "train_dataset  = train_data.flow_from_directory(\n",
    "    directory = '..\\\\Data\\\\Chest Cancer dataset\\\\train',\n",
    "    target_size = size,\n",
    "    class_mode = class_name,\n",
    "    batch_size = batch)"
   ]
  },
  {
   "cell_type": "code",
   "execution_count": 5,
   "metadata": {},
   "outputs": [
    {
     "name": "stdout",
     "output_type": "stream",
     "text": [
      "Found 72 images belonging to 4 classes.\n"
     ]
    }
   ],
   "source": [
    "validation_dataset = valid_data.flow_from_directory(\n",
    "    directory = '..\\\\Data\\\\Chest Cancer dataset\\\\valid',\n",
    "    target_size = size,\n",
    "    class_mode = class_name,\n",
    "    batch_size = batch)"
   ]
  },
  {
   "cell_type": "code",
   "execution_count": 6,
   "metadata": {},
   "outputs": [
    {
     "name": "stdout",
     "output_type": "stream",
     "text": [
      "Found 315 images belonging to 4 classes.\n"
     ]
    }
   ],
   "source": [
    "testing_dataset = test_data.flow_from_directory(\n",
    "    directory = '..\\\\Data\\\\Chest Cancer dataset\\\\test',\n",
    "    target_size = size,\n",
    "    class_mode = class_name,\n",
    "    batch_size = batch)"
   ]
  },
  {
   "cell_type": "code",
   "execution_count": 7,
   "metadata": {},
   "outputs": [],
   "source": [
    "base_model = VGG16(\n",
    "    input_shape=(224,224,3),\n",
    "    include_top=False,\n",
    "    weights=\"imagenet\")"
   ]
  },
  {
   "cell_type": "code",
   "execution_count": 8,
   "metadata": {},
   "outputs": [],
   "source": [
    "for layer in base_model.layers[:-10]:\n",
    "    layer.trainable=False"
   ]
  },
  {
   "cell_type": "code",
   "execution_count": 9,
   "metadata": {},
   "outputs": [],
   "source": [
    "model=Sequential()\n",
    "\n",
    "model.add(base_model)\n",
    "\n",
    "model.add(Dropout(0.5))\n",
    "model.add(Flatten())\n",
    "model.add(BatchNormalization())\n",
    "\n",
    "model.add(Dense(32))\n",
    "model.add(BatchNormalization())\n",
    "model.add(Activation('relu'))\n",
    "model.add(Dropout(0.5))\n",
    "model.add(Dense(64))\n",
    "model.add(BatchNormalization())\n",
    "model.add(Activation('relu'))\n",
    "model.add(Dense(16))\n",
    "model.add(BatchNormalization())\n",
    "model.add(Activation('relu'))\n",
    "model.add(Dense(4,activation='softmax'))"
   ]
  },
  {
   "cell_type": "code",
   "execution_count": 10,
   "metadata": {},
   "outputs": [],
   "source": [
    "def f1_score(y_true, y_pred):\n",
    "    true_positives = K.sum(K.round(K.clip(y_true * y_pred, 0, 1)))\n",
    "    possible_positives = K.sum(K.round(K.clip(y_true, 0, 1)))\n",
    "    predicted_positives = K.sum(K.round(K.clip(y_pred, 0, 1)))\n",
    "    precision = true_positives / (predicted_positives + K.epsilon())\n",
    "    recall = true_positives / (possible_positives + K.epsilon())\n",
    "    return 2 * (precision * recall) / (precision + recall + K.epsilon())"
   ]
  },
  {
   "cell_type": "code",
   "execution_count": 11,
   "metadata": {},
   "outputs": [],
   "source": [
    "METRICS = [\n",
    "      BinaryAccuracy(name='accuracy'),\n",
    "      Precision(name='precision'),\n",
    "      Recall(name='recall'),  \n",
    "      AUC(name='auc'),\n",
    "      f1_score\n",
    "]"
   ]
  },
  {
   "cell_type": "code",
   "execution_count": 12,
   "metadata": {},
   "outputs": [],
   "source": [
    "model.compile(optimizer='Adam', loss='categorical_crossentropy',metrics=METRICS)"
   ]
  },
  {
   "cell_type": "code",
   "execution_count": 13,
   "metadata": {},
   "outputs": [
    {
     "name": "stdout",
     "output_type": "stream",
     "text": [
      "Model: \"sequential\"\n",
      "_________________________________________________________________\n",
      " Layer (type)                Output Shape              Param #   \n",
      "=================================================================\n",
      " vgg16 (Functional)          (None, 7, 7, 512)         14714688  \n",
      "                                                                 \n",
      " dropout (Dropout)           (None, 7, 7, 512)         0         \n",
      "                                                                 \n",
      " flatten (Flatten)           (None, 25088)             0         \n",
      "                                                                 \n",
      " batch_normalization (BatchN  (None, 25088)            100352    \n",
      " ormalization)                                                   \n",
      "                                                                 \n",
      " dense (Dense)               (None, 32)                802848    \n",
      "                                                                 \n",
      " batch_normalization_1 (Batc  (None, 32)               128       \n",
      " hNormalization)                                                 \n",
      "                                                                 \n",
      " activation (Activation)     (None, 32)                0         \n",
      "                                                                 \n",
      " dropout_1 (Dropout)         (None, 32)                0         \n",
      "                                                                 \n",
      " dense_1 (Dense)             (None, 64)                2112      \n",
      "                                                                 \n",
      " batch_normalization_2 (Batc  (None, 64)               256       \n",
      " hNormalization)                                                 \n",
      "                                                                 \n",
      " activation_1 (Activation)   (None, 64)                0         \n",
      "                                                                 \n",
      " dense_2 (Dense)             (None, 16)                1040      \n",
      "                                                                 \n",
      " batch_normalization_3 (Batc  (None, 16)               64        \n",
      " hNormalization)                                                 \n",
      "                                                                 \n",
      " activation_2 (Activation)   (None, 16)                0         \n",
      "                                                                 \n",
      " dense_3 (Dense)             (None, 4)                 68        \n",
      "                                                                 \n",
      "=================================================================\n",
      "Total params: 15,621,556\n",
      "Trainable params: 14,425,748\n",
      "Non-trainable params: 1,195,808\n",
      "_________________________________________________________________\n"
     ]
    }
   ],
   "source": [
    "model.summary()"
   ]
  },
  {
   "cell_type": "code",
   "execution_count": 14,
   "metadata": {},
   "outputs": [],
   "source": [
    "lr = ReduceLROnPlateau(monitor = 'val_loss',patience = 4,verbose = 1,factor = 0.50, min_lr = 0.001)\n",
    "mcp = ModelCheckpoint('vvg16_model.h5')\n",
    "es = EarlyStopping(verbose=1, patience=4)"
   ]
  },
  {
   "cell_type": "code",
   "execution_count": 15,
   "metadata": {},
   "outputs": [
    {
     "name": "stdout",
     "output_type": "stream",
     "text": [
      "Epoch 1/15\n",
      "20/20 [==============================] - 46s 1s/step - loss: 1.7367 - accuracy: 0.6905 - precision: 0.2719 - recall: 0.1419 - auc: 0.5122 - f1_score: 0.1999 - val_loss: 49.5136 - val_accuracy: 0.5903 - val_precision: 0.1806 - val_recall: 0.1806 - val_auc: 0.4537 - val_f1_score: 0.1667 - lr: 0.0010\n",
      "Epoch 2/15\n",
      "20/20 [==============================] - 16s 790ms/step - loss: 1.5007 - accuracy: 0.7394 - precision: 0.4472 - recall: 0.1794 - auc: 0.5830 - f1_score: 0.2574 - val_loss: 43.9547 - val_accuracy: 0.5903 - val_precision: 0.1806 - val_recall: 0.1806 - val_auc: 0.4537 - val_f1_score: 0.1667 - lr: 0.0010\n",
      "Epoch 3/15\n",
      "20/20 [==============================] - 16s 783ms/step - loss: 1.2972 - accuracy: 0.7753 - precision: 0.6782 - recall: 0.1925 - auc: 0.6559 - f1_score: 0.3079 - val_loss: 31.4038 - val_accuracy: 0.5903 - val_precision: 0.1806 - val_recall: 0.1806 - val_auc: 0.4537 - val_f1_score: 0.2292 - lr: 0.0010\n",
      "Epoch 4/15\n",
      "20/20 [==============================] - 16s 786ms/step - loss: 1.2162 - accuracy: 0.7818 - precision: 0.7143 - recall: 0.2121 - auc: 0.6983 - f1_score: 0.3354 - val_loss: 16.1036 - val_accuracy: 0.5903 - val_precision: 0.1806 - val_recall: 0.1806 - val_auc: 0.4537 - val_f1_score: 0.1354 - lr: 0.0010\n",
      "Epoch 5/15\n",
      "20/20 [==============================] - 16s 816ms/step - loss: 1.1495 - accuracy: 0.7892 - precision: 0.7609 - recall: 0.2284 - auc: 0.7482 - f1_score: 0.3468 - val_loss: 12.1489 - val_accuracy: 0.5903 - val_precision: 0.1806 - val_recall: 0.1806 - val_auc: 0.4605 - val_f1_score: 0.1667 - lr: 0.0010\n",
      "Epoch 6/15\n",
      "20/20 [==============================] - 16s 780ms/step - loss: 1.1171 - accuracy: 0.7924 - precision: 0.8023 - recall: 0.2251 - auc: 0.7629 - f1_score: 0.3477 - val_loss: 1.2649 - val_accuracy: 0.7396 - val_precision: 0.4595 - val_recall: 0.2361 - val_auc: 0.6762 - val_f1_score: 0.3461 - lr: 0.0010\n",
      "Epoch 7/15\n",
      "20/20 [==============================] - 16s 784ms/step - loss: 1.0539 - accuracy: 0.7900 - precision: 0.7917 - recall: 0.2170 - auc: 0.8112 - f1_score: 0.3376 - val_loss: 9.4864 - val_accuracy: 0.5972 - val_precision: 0.1667 - val_recall: 0.1528 - val_auc: 0.4393 - val_f1_score: 0.1814 - lr: 0.0010\n",
      "Epoch 8/15\n",
      "20/20 [==============================] - 16s 782ms/step - loss: 1.0256 - accuracy: 0.7981 - precision: 0.8315 - recall: 0.2414 - auc: 0.8198 - f1_score: 0.3865 - val_loss: 1.7869 - val_accuracy: 0.6424 - val_precision: 0.2459 - val_recall: 0.2083 - val_auc: 0.5779 - val_f1_score: 0.2775 - lr: 0.0010\n",
      "Epoch 9/15\n",
      "20/20 [==============================] - 16s 781ms/step - loss: 1.0693 - accuracy: 0.7916 - precision: 0.7476 - recall: 0.2512 - auc: 0.7936 - f1_score: 0.3906 - val_loss: 40.7830 - val_accuracy: 0.5903 - val_precision: 0.1806 - val_recall: 0.1806 - val_auc: 0.4537 - val_f1_score: 0.1667 - lr: 0.0010\n",
      "Epoch 10/15\n",
      "20/20 [==============================] - 16s 784ms/step - loss: 1.0370 - accuracy: 0.7883 - precision: 0.7398 - recall: 0.2365 - auc: 0.8022 - f1_score: 0.3557 - val_loss: 25.6740 - val_accuracy: 0.5903 - val_precision: 0.1806 - val_recall: 0.1806 - val_auc: 0.4537 - val_f1_score: 0.1979 - lr: 0.0010\n",
      "Epoch 10: early stopping\n"
     ]
    }
   ],
   "source": [
    "vgg_model = model.fit(train_dataset,validation_data = validation_dataset, epochs = 15, callbacks=[lr,mcp,es])"
   ]
  },
  {
   "cell_type": "code",
   "execution_count": 16,
   "metadata": {},
   "outputs": [
    {
     "name": "stdout",
     "output_type": "stream",
     "text": [
      "10/10 [==============================] - 9s 973ms/step - loss: 24.9492 - accuracy: 0.5857 - precision: 0.1714 - recall: 0.1714 - auc: 0.4476 - f1_score: 0.1711\n"
     ]
    }
   ],
   "source": [
    "vgg_eval = model.evaluate(testing_dataset)"
   ]
  },
  {
   "cell_type": "code",
   "execution_count": 17,
   "metadata": {},
   "outputs": [
    {
     "data": {
      "image/png": "[encoded data removed]",
      "text/plain": [
       "<Figure size 1440x288 with 4 Axes>"
      ]
     },
     "metadata": {
      "needs_background": "light"
     },
     "output_type": "display_data"
    }
   ],
   "source": [
    "# PLOTTING RESULTS\n",
    "\n",
    "def Train_Val_Plot(acc,val_acc,loss,val_loss,auc,val_auc,f1,val_f1):\n",
    "    \n",
    "    fig, (ax1,ax2,ax3,ax4) = plt.subplots(1,4, figsize= (20,4))\n",
    "    fig.suptitle(\" VGG-16 METRICS PLOT\")\n",
    "\n",
    "    ax1.plot(range(1, len(acc) + 1), acc)\n",
    "    ax1.plot(range(1, len(val_acc) + 1), val_acc)\n",
    "    ax1.set_title('Accuracy vs Epochs')\n",
    "    ax1.set_xlabel('Epochs')\n",
    "    ax1.set_ylabel('Accuracy')\n",
    "    ax1.legend(['training', 'validation'])\n",
    "\n",
    "\n",
    "    ax2.plot(range(1, len(loss) + 1), loss)\n",
    "    ax2.plot(range(1, len(val_loss) + 1), val_loss)\n",
    "    ax2.set_title('Loss vs Epochs')\n",
    "    ax2.set_xlabel('Epochs')\n",
    "    ax2.set_ylabel('Loss')\n",
    "    ax2.legend(['training', 'validation'])\n",
    "    \n",
    "    ax3.plot(range(1, len(auc) + 1), auc)\n",
    "    ax3.plot(range(1, len(val_auc) + 1), val_auc)\n",
    "    ax3.set_title('AUC vs Epochs')\n",
    "    ax3.set_xlabel('Epochs')\n",
    "    ax3.set_ylabel('AUC')\n",
    "    ax3.legend(['training', 'validation'])\n",
    "    \n",
    "    ax4.plot(range(1, len(f1) + 1), f1)\n",
    "    ax4.plot(range(1, len(val_f1) + 1), val_f1)\n",
    "    ax4.set_title('F1-score vs Epochs')\n",
    "    ax4.set_xlabel('Epochs')\n",
    "    ax4.set_ylabel('F1 score')\n",
    "    ax4.legend(['training', 'validation'])\n",
    "\n",
    "    plt.show()\n",
    "\n",
    "Train_Val_Plot(vgg_model.history['accuracy'],vgg_model.history['val_accuracy'],\n",
    "               vgg_model.history['loss'],vgg_model.history['val_loss'],\n",
    "               vgg_model.history['auc'],vgg_model.history['val_auc'],\n",
    "               vgg_model.history['f1_score'],vgg_model.history['val_f1_score']\n",
    "              )"
   ]
  }
 ],
 "metadata": {
  "kernelspec": {
   "display_name": "Python 3.8.5 64-bit",
   "language": "python",
   "name": "python3"
  },
  "language_info": {
   "codemirror_mode": {
    "name": "ipython",
    "version": 3
   },
   "file_extension": ".py",
   "mimetype": "text/x-python",
   "name": "python",
   "nbconvert_exporter": "python",
   "pygments_lexer": "ipython3",
   "version": "3.8.5"
  },
  "orig_nbformat": 4,
  "vscode": {
   "interpreter": {
    "hash": "3cadd6c3d99ae72ba3b0b13311fd373988109455131e58c784babf1e443b79a1"
   }
  }
 },
 "nbformat": 4,
 "nbformat_minor": 2
}
