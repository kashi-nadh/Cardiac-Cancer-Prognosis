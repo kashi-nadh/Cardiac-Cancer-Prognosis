{
 "cells": [
  {
   "cell_type": "code",
   "execution_count": 36,
   "metadata": {},
   "outputs": [],
   "source": [
    "import numpy as np\n",
    "import pandas as pd\n",
    "import matplotlib.pyplot as plt\n",
    "import seaborn as sn\n",
    "import tensorflow \n",
    "from sklearn import metrics\n",
    "\n",
    "import tensorflow as tf\n",
    "\n",
    "from keras.preprocessing.image import ImageDataGenerator\n",
    "from keras.models import Sequential\n",
    "from keras.layers import  BatchNormalization, Dropout, Flatten, Dense, Activation\n",
    "from keras.callbacks import EarlyStopping, ModelCheckpoint\n",
    "from keras.applications.vgg16 import VGG16\n",
    "from keras import optimizers\n",
    "from tensorflow.keras.optimizers import Adam\n",
    "from keras.callbacks import Callback,ModelCheckpoint,ReduceLROnPlateau\n",
    "\n",
    "import keras.backend as K"
   ]
  },
  {
   "cell_type": "code",
   "execution_count": 37,
   "metadata": {},
   "outputs": [],
   "source": [
    "train_data = ImageDataGenerator(\n",
    "    rescale = 1./255,\n",
    "    validation_split = 0.20,\n",
    "    horizontal_flip=True,\n",
    "    vertical_flip=True,\n",
    "    fill_mode='nearest')\n",
    "\n",
    "valid_data = ImageDataGenerator(\n",
    "    rescale = 1./255,\n",
    "    validation_split = 0.2)\n",
    "\n",
    "test_data = ImageDataGenerator(\n",
    "    rescale = 1./255)"
   ]
  },
  {
   "cell_type": "code",
   "execution_count": 38,
   "metadata": {},
   "outputs": [],
   "source": [
    "size = (224,224)\n",
    "class_name = 'categorical'\n",
    "batch = 32"
   ]
  },
  {
   "cell_type": "code",
   "execution_count": 39,
   "metadata": {},
   "outputs": [
    {
     "name": "stdout",
     "output_type": "stream",
     "text": [
      "Found 613 images belonging to 4 classes.\n"
     ]
    }
   ],
   "source": [
    "train_dataset  = train_data.flow_from_directory(\n",
    "    directory = '..\\\\Data\\\\Chest Cancer dataset\\\\train',\n",
    "    target_size = size,\n",
    "    class_mode = class_name,\n",
    "    batch_size = batch)"
   ]
  },
  {
   "cell_type": "code",
   "execution_count": 40,
   "metadata": {},
   "outputs": [
    {
     "name": "stdout",
     "output_type": "stream",
     "text": [
      "Found 72 images belonging to 4 classes.\n"
     ]
    }
   ],
   "source": [
    "validation_dataset = valid_data.flow_from_directory(\n",
    "    directory = '..\\\\Data\\\\Chest Cancer dataset\\\\valid',\n",
    "    target_size = size,\n",
    "    class_mode = class_name,\n",
    "    batch_size = batch)"
   ]
  },
  {
   "cell_type": "code",
   "execution_count": 41,
   "metadata": {},
   "outputs": [
    {
     "name": "stdout",
     "output_type": "stream",
     "text": [
      "Found 315 images belonging to 4 classes.\n"
     ]
    }
   ],
   "source": [
    "testing_dataset = test_data.flow_from_directory(\n",
    "    directory = '..\\\\Data\\\\Chest Cancer dataset\\\\test',\n",
    "    target_size = size,\n",
    "    class_mode = class_name,\n",
    "    batch_size = batch)"
   ]
  },
  {
   "cell_type": "code",
   "execution_count": 42,
   "metadata": {},
   "outputs": [],
   "source": [
    "base_model = VGG16(\n",
    "    input_shape=(224,224,3),\n",
    "    include_top=False,\n",
    "    weights=\"imagenet\")"
   ]
  },
  {
   "cell_type": "code",
   "execution_count": 43,
   "metadata": {},
   "outputs": [],
   "source": [
    "for layer in base_model.layers[:-10]:\n",
    "    layer.trainable=False"
   ]
  },
  {
   "cell_type": "code",
   "execution_count": 44,
   "metadata": {},
   "outputs": [],
   "source": [
    "model=Sequential()\n",
    "\n",
    "model.add(base_model)\n",
    "\n",
    "model.add(Dropout(0.5))\n",
    "model.add(Flatten())\n",
    "model.add(BatchNormalization())\n",
    "\n",
    "model.add(Dense(32))\n",
    "model.add(BatchNormalization())\n",
    "model.add(Activation('relu'))\n",
    "model.add(Dropout(0.5))\n",
    "model.add(Dense(64))\n",
    "model.add(BatchNormalization())\n",
    "model.add(Activation('relu'))\n",
    "model.add(Dense(16))\n",
    "model.add(BatchNormalization())\n",
    "model.add(Activation('relu'))\n",
    "model.add(Dense(4,activation='softmax'))"
   ]
  },
  {
   "cell_type": "code",
   "execution_count": 45,
   "metadata": {},
   "outputs": [],
   "source": [
    "def f1_score(y_true, y_pred):\n",
    "    true_positives = K.sum(K.round(K.clip(y_true * y_pred, 0, 1)))\n",
    "    possible_positives = K.sum(K.round(K.clip(y_true, 0, 1)))\n",
    "    predicted_positives = K.sum(K.round(K.clip(y_pred, 0, 1)))\n",
    "    precision = true_positives / (predicted_positives + K.epsilon())\n",
    "    recall = true_positives / (possible_positives + K.epsilon())\n",
    "    f1_score = 2*(precision*recall)/(precision+recall+K.epsilon())\n",
    "    return f1_score"
   ]
  },
  {
   "cell_type": "code",
   "execution_count": 46,
   "metadata": {},
   "outputs": [],
   "source": [
    "METRICS = [\n",
    "      tf.keras.metrics.BinaryAccuracy(name='accuracy'),\n",
    "      tf.keras.metrics.Precision(name='precision'),\n",
    "      tf.keras.metrics.Recall(name='recall'),  \n",
    "      tf.keras.metrics.AUC(name='auc'),\n",
    "      f1_score\n",
    "]"
   ]
  },
  {
   "cell_type": "code",
   "execution_count": 47,
   "metadata": {},
   "outputs": [],
   "source": [
    "model.compile(optimizer='Adam', loss='categorical_crossentropy',metrics=METRICS)"
   ]
  },
  {
   "cell_type": "code",
   "execution_count": 48,
   "metadata": {},
   "outputs": [
    {
     "name": "stdout",
     "output_type": "stream",
     "text": [
      "Model: \"sequential_2\"\n",
      "_________________________________________________________________\n",
      " Layer (type)                Output Shape              Param #   \n",
      "=================================================================\n",
      " vgg16 (Functional)          (None, 7, 7, 512)         14714688  \n",
      "                                                                 \n",
      " dropout_4 (Dropout)         (None, 7, 7, 512)         0         \n",
      "                                                                 \n",
      " flatten_2 (Flatten)         (None, 25088)             0         \n",
      "                                                                 \n",
      " batch_normalization_8 (Batc  (None, 25088)            100352    \n",
      " hNormalization)                                                 \n",
      "                                                                 \n",
      " dense_8 (Dense)             (None, 32)                802848    \n",
      "                                                                 \n",
      " batch_normalization_9 (Batc  (None, 32)               128       \n",
      " hNormalization)                                                 \n",
      "                                                                 \n",
      " activation_6 (Activation)   (None, 32)                0         \n",
      "                                                                 \n",
      " dropout_5 (Dropout)         (None, 32)                0         \n",
      "                                                                 \n",
      " dense_9 (Dense)             (None, 64)                2112      \n",
      "                                                                 \n",
      " batch_normalization_10 (Bat  (None, 64)               256       \n",
      " chNormalization)                                                \n",
      "                                                                 \n",
      " activation_7 (Activation)   (None, 64)                0         \n",
      "                                                                 \n",
      " dense_10 (Dense)            (None, 16)                1040      \n",
      "                                                                 \n",
      " batch_normalization_11 (Bat  (None, 16)               64        \n",
      " chNormalization)                                                \n",
      "                                                                 \n",
      " activation_8 (Activation)   (None, 16)                0         \n",
      "                                                                 \n",
      " dense_11 (Dense)            (None, 4)                 68        \n",
      "                                                                 \n",
      "=================================================================\n",
      "Total params: 15,621,556\n",
      "Trainable params: 14,425,748\n",
      "Non-trainable params: 1,195,808\n",
      "_________________________________________________________________\n"
     ]
    }
   ],
   "source": [
    "model.summary()"
   ]
  },
  {
   "cell_type": "code",
   "execution_count": 49,
   "metadata": {},
   "outputs": [],
   "source": [
    "lr = ReduceLROnPlateau(monitor = 'val_loss',patience = 4,verbose = 1,factor = 0.50, min_lr = 0.001)\n",
    "mcp = ModelCheckpoint('vvg16_model.h5')\n",
    "es = EarlyStopping(verbose=1, patience=4)"
   ]
  },
  {
   "cell_type": "code",
   "execution_count": 50,
   "metadata": {},
   "outputs": [
    {
     "name": "stdout",
     "output_type": "stream",
     "text": [
      "Epoch 1/15\n",
      "20/20 [==============================] - 15s 572ms/step - loss: 1.5787 - accuracy: 0.7068 - precision: 0.2350 - recall: 0.0767 - auc: 0.5088 - f1_score: 0.1223 - val_loss: 40.8879 - val_accuracy: 0.5903 - val_precision: 0.1806 - val_recall: 0.1806 - val_auc: 0.4577 - val_f1_score: 0.1667 - lr: 0.0010\n",
      "Epoch 2/15\n",
      "20/20 [==============================] - 11s 577ms/step - loss: 1.3858 - accuracy: 0.7423 - precision: 0.4354 - recall: 0.1044 - auc: 0.6078 - f1_score: 0.1731 - val_loss: 266.6909 - val_accuracy: 0.6458 - val_precision: 0.2917 - val_recall: 0.2917 - val_auc: 0.5278 - val_f1_score: 0.2812 - lr: 0.0010\n",
      "Epoch 3/15\n",
      "20/20 [==============================] - 11s 528ms/step - loss: 1.1811 - accuracy: 0.7741 - precision: 0.7360 - recall: 0.1501 - auc: 0.7315 - f1_score: 0.2375 - val_loss: 10.6879 - val_accuracy: 0.5903 - val_precision: 0.1806 - val_recall: 0.1806 - val_auc: 0.4499 - val_f1_score: 0.1667 - lr: 0.0010\n",
      "Epoch 4/15\n",
      "20/20 [==============================] - 11s 519ms/step - loss: 1.1382 - accuracy: 0.7851 - precision: 0.8162 - recall: 0.1811 - auc: 0.7490 - f1_score: 0.2975 - val_loss: 324.9689 - val_accuracy: 0.5903 - val_precision: 0.1806 - val_recall: 0.1806 - val_auc: 0.4537 - val_f1_score: 0.1354 - lr: 0.0010\n",
      "Epoch 5/15\n",
      "20/20 [==============================] - 11s 519ms/step - loss: 1.0758 - accuracy: 0.7936 - precision: 0.8741 - recall: 0.2039 - auc: 0.7882 - f1_score: 0.3143 - val_loss: 359.0310 - val_accuracy: 0.5972 - val_precision: 0.1944 - val_recall: 0.1944 - val_auc: 0.4630 - val_f1_score: 0.1458 - lr: 0.0010\n",
      "Epoch 6/15\n",
      "20/20 [==============================] - 11s 520ms/step - loss: 1.0649 - accuracy: 0.7822 - precision: 0.7970 - recall: 0.1729 - auc: 0.8024 - f1_score: 0.2706 - val_loss: 12.7685 - val_accuracy: 0.6806 - val_precision: 0.3000 - val_recall: 0.2083 - val_auc: 0.5672 - val_f1_score: 0.2826 - lr: 0.0010\n",
      "Epoch 7/15\n",
      "20/20 [==============================] - 11s 520ms/step - loss: 1.0098 - accuracy: 0.7920 - precision: 0.7814 - recall: 0.2333 - auc: 0.8270 - f1_score: 0.3623 - val_loss: 1.2774 - val_accuracy: 0.7604 - val_precision: 0.5556 - val_recall: 0.2083 - val_auc: 0.6773 - val_f1_score: 0.3039 - lr: 0.0010\n",
      "Epoch 8/15\n",
      "20/20 [==============================] - 11s 521ms/step - loss: 0.9883 - accuracy: 0.7940 - precision: 0.7872 - recall: 0.2414 - auc: 0.8340 - f1_score: 0.3710 - val_loss: 1.1639 - val_accuracy: 0.7778 - val_precision: 0.7222 - val_recall: 0.1806 - val_auc: 0.7076 - val_f1_score: 0.3172 - lr: 0.0010\n",
      "Epoch 9/15\n",
      "20/20 [==============================] - 10s 520ms/step - loss: 0.9793 - accuracy: 0.7830 - precision: 0.6552 - recall: 0.2790 - auc: 0.8351 - f1_score: 0.3926 - val_loss: 1.1309 - val_accuracy: 0.7743 - val_precision: 0.6842 - val_recall: 0.1806 - val_auc: 0.7207 - val_f1_score: 0.3026 - lr: 0.0010\n",
      "Epoch 10/15\n",
      "20/20 [==============================] - 11s 524ms/step - loss: 0.9301 - accuracy: 0.8075 - precision: 0.7743 - recall: 0.3246 - auc: 0.8547 - f1_score: 0.4633 - val_loss: 1.2213 - val_accuracy: 0.7708 - val_precision: 0.6000 - val_recall: 0.2500 - val_auc: 0.6974 - val_f1_score: 0.3095 - lr: 0.0010\n",
      "Epoch 11/15\n",
      "20/20 [==============================] - 11s 531ms/step - loss: 0.9091 - accuracy: 0.8034 - precision: 0.7028 - recall: 0.3703 - auc: 0.8580 - f1_score: 0.4984 - val_loss: 1.0990 - val_accuracy: 0.7743 - val_precision: 0.5946 - val_recall: 0.3056 - val_auc: 0.7470 - val_f1_score: 0.3757 - lr: 0.0010\n",
      "Epoch 12/15\n",
      "20/20 [==============================] - 11s 522ms/step - loss: 0.8834 - accuracy: 0.8197 - precision: 0.7382 - recall: 0.4323 - auc: 0.8672 - f1_score: 0.5591 - val_loss: 1.1343 - val_accuracy: 0.7882 - val_precision: 0.7895 - val_recall: 0.2083 - val_auc: 0.7349 - val_f1_score: 0.2967 - lr: 0.0010\n",
      "Epoch 13/15\n",
      "20/20 [==============================] - 11s 551ms/step - loss: 0.8736 - accuracy: 0.8210 - precision: 0.7339 - recall: 0.4454 - auc: 0.8682 - f1_score: 0.5460 - val_loss: 1.3204 - val_accuracy: 0.7326 - val_precision: 0.4545 - val_recall: 0.3472 - val_auc: 0.6736 - val_f1_score: 0.3775 - lr: 0.0010\n",
      "Epoch 14/15\n",
      "20/20 [==============================] - 11s 525ms/step - loss: 0.8287 - accuracy: 0.8279 - precision: 0.7468 - recall: 0.4715 - auc: 0.8855 - f1_score: 0.5743 - val_loss: 1.2902 - val_accuracy: 0.7361 - val_precision: 0.4500 - val_recall: 0.2500 - val_auc: 0.6819 - val_f1_score: 0.3091 - lr: 0.0010\n",
      "Epoch 15/15\n",
      "20/20 [==============================] - 11s 525ms/step - loss: 0.8060 - accuracy: 0.8356 - precision: 0.7561 - recall: 0.5057 - auc: 0.8880 - f1_score: 0.5968 - val_loss: 1.1686 - val_accuracy: 0.7778 - val_precision: 0.5952 - val_recall: 0.3472 - val_auc: 0.7391 - val_f1_score: 0.4687 - lr: 0.0010\n",
      "Epoch 15: early stopping\n"
     ]
    }
   ],
   "source": [
    "vgg_model = model.fit(train_dataset,validation_data = validation_dataset, epochs = 15, callbacks=[lr,mcp,es])"
   ]
  },
  {
   "cell_type": "code",
   "execution_count": 51,
   "metadata": {},
   "outputs": [
    {
     "name": "stdout",
     "output_type": "stream",
     "text": [
      "10/10 [==============================] - 3s 295ms/step - loss: 1.0250 - accuracy: 0.7786 - precision: 0.6607 - recall: 0.2349 - auc: 0.7964 - f1_score: 0.3412\n"
     ]
    }
   ],
   "source": [
    "vgg_eval = model.evaluate(testing_dataset)"
   ]
  },
  {
   "cell_type": "code",
   "execution_count": 52,
   "metadata": {},
   "outputs": [
    {
     "data": {
      "image/png": "[encoded data removed]",
      "text/plain": [
       "<Figure size 1440x288 with 4 Axes>"
      ]
     },
     "metadata": {
      "needs_background": "light"
     },
     "output_type": "display_data"
    }
   ],
   "source": [
    "# PLOTTING RESULTS\n",
    "\n",
    "def Train_Val_Plot(acc,val_acc,loss,val_loss,auc,val_auc,f1,val_f1):\n",
    "    \n",
    "    fig, (ax1,ax2,ax3,ax4) = plt.subplots(1,4, figsize= (20,4))\n",
    "    fig.suptitle(\" VGG-16 METRICS PLOT\")\n",
    "\n",
    "    ax1.plot(range(1, len(acc) + 1), acc)\n",
    "    ax1.plot(range(1, len(val_acc) + 1), val_acc)\n",
    "    ax1.set_title('Accuracy vs Epochs')\n",
    "    ax1.set_xlabel('Epochs')\n",
    "    ax1.set_ylabel('Accuracy')\n",
    "    ax1.legend(['training', 'validation'])\n",
    "\n",
    "\n",
    "    ax2.plot(range(1, len(loss) + 1), loss)\n",
    "    ax2.plot(range(1, len(val_loss) + 1), val_loss)\n",
    "    ax2.set_title('Loss vs Epochs')\n",
    "    ax2.set_xlabel('Epochs')\n",
    "    ax2.set_ylabel('Loss')\n",
    "    ax2.legend(['training', 'validation'])\n",
    "    \n",
    "    ax3.plot(range(1, len(auc) + 1), auc)\n",
    "    ax3.plot(range(1, len(val_auc) + 1), val_auc)\n",
    "    ax3.set_title('AUC vs Epochs')\n",
    "    ax3.set_xlabel('Epochs')\n",
    "    ax3.set_ylabel('AUC')\n",
    "    ax3.legend(['training', 'validation'])\n",
    "    \n",
    "    ax4.plot(range(1, len(f1) + 1), f1)\n",
    "    ax4.plot(range(1, len(val_f1) + 1), val_f1)\n",
    "    ax4.set_title('F1-score vs Epochs')\n",
    "    ax4.set_xlabel('Epochs')\n",
    "    ax4.set_ylabel('F1 score')\n",
    "    ax4.legend(['training', 'validation'])\n",
    "\n",
    "    plt.show()\n",
    "\n",
    "Train_Val_Plot(vgg_model.history['accuracy'],vgg_model.history['val_accuracy'],\n",
    "               vgg_model.history['loss'],vgg_model.history['val_loss'],\n",
    "               vgg_model.history['auc'],vgg_model.history['val_auc'],\n",
    "               vgg_model.history['f1_score'],vgg_model.history['val_f1_score']\n",
    "              )"
   ]
  }
 ],
 "metadata": {
  "kernelspec": {
   "display_name": "Python 3.8.5 64-bit",
   "language": "python",
   "name": "python3"
  },
  "language_info": {
   "codemirror_mode": {
    "name": "ipython",
    "version": 3
   },
   "file_extension": ".py",
   "mimetype": "text/x-python",
   "name": "python",
   "nbconvert_exporter": "python",
   "pygments_lexer": "ipython3",
   "version": "3.8.5"
  },
  "orig_nbformat": 4,
  "vscode": {
   "interpreter": {
    "hash": "3cadd6c3d99ae72ba3b0b13311fd373988109455131e58c784babf1e443b79a1"
   }
  }
 },
 "nbformat": 4,
 "nbformat_minor": 2
}
