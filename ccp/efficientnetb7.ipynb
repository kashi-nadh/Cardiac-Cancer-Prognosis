{
 "cells": [
  {
   "cell_type": "code",
   "execution_count": 16,
   "metadata": {},
   "outputs": [],
   "source": [
    "import numpy as np\n",
    "import pandas as pd\n",
    "import matplotlib.pyplot as plt\n",
    "import seaborn as sn\n",
    "import tensorflow \n",
    "from sklearn import metrics\n",
    "\n",
    "import tensorflow as tf\n",
    "from keras.metrics import BinaryAccuracy, BinaryCrossentropy, Precision, Recall, Accuracy, AUC\n",
    "from keras.preprocessing.image import ImageDataGenerator\n",
    "from keras.models import Sequential\n",
    "\n",
    "from keras.layers import  BatchNormalization, Dropout, Flatten, Dense, Activation\n",
    "from keras.callbacks import EarlyStopping, ModelCheckpoint\n",
    "from keras.applications.efficientnet import EfficientNetB7\n",
    "from keras import optimizers\n",
    "from tensorflow.keras.optimizers import Adam\n",
    "from keras.callbacks import Callback,ModelCheckpoint,ReduceLROnPlateau\n",
    "\n",
    "import keras.backend as K"
   ]
  },
  {
   "cell_type": "code",
   "execution_count": 17,
   "metadata": {},
   "outputs": [
    {
     "data": {
      "text/plain": [
       "[PhysicalDevice(name='/physical_device:GPU:0', device_type='GPU')]"
      ]
     },
     "execution_count": 17,
     "metadata": {},
     "output_type": "execute_result"
    }
   ],
   "source": [
    "tf.config.list_physical_devices('GPU')"
   ]
  },
  {
   "cell_type": "code",
   "execution_count": 18,
   "metadata": {},
   "outputs": [],
   "source": [
    "train_datagen = ImageDataGenerator(\n",
    "        rescale = 1./255, \n",
    "        validation_split = 0.20,\n",
    "        fill_mode='nearest')\n",
    "\n",
    "valid_datagen = ImageDataGenerator(\n",
    "        rescale = 1./255,\n",
    "        validation_split = 0.20)\n",
    "\n",
    "test_datagen  = ImageDataGenerator(\n",
    "        rescale = 1./255)"
   ]
  },
  {
   "cell_type": "code",
   "execution_count": 19,
   "metadata": {},
   "outputs": [
    {
     "name": "stdout",
     "output_type": "stream",
     "text": [
      "Found 613 images belonging to 4 classes.\n"
     ]
    }
   ],
   "source": [
    "train_dataset  = train_datagen.flow_from_directory(\n",
    "    directory = '..\\\\Data\\\\Chest Cancer dataset\\\\train',\n",
    "    target_size = (224,224),\n",
    "    class_mode = 'categorical',\n",
    "    batch_size = 32)"
   ]
  },
  {
   "cell_type": "code",
   "execution_count": 20,
   "metadata": {},
   "outputs": [
    {
     "name": "stdout",
     "output_type": "stream",
     "text": [
      "Found 315 images belonging to 4 classes.\n"
     ]
    }
   ],
   "source": [
    "validation_dataset = valid_datagen.flow_from_directory(\n",
    "    directory = '..\\\\Data\\\\Chest Cancer dataset\\\\test',\n",
    "    target_size = (224,224),\n",
    "    class_mode = 'categorical',\n",
    "    batch_size = 32)"
   ]
  },
  {
   "cell_type": "code",
   "execution_count": 21,
   "metadata": {},
   "outputs": [
    {
     "name": "stdout",
     "output_type": "stream",
     "text": [
      "Found 72 images belonging to 4 classes.\n"
     ]
    }
   ],
   "source": [
    "test_dataset = test_datagen.flow_from_directory(\n",
    "    directory = '..\\\\Data\\\\Chest Cancer dataset\\\\valid',\n",
    "    target_size = (224,224),\n",
    "    class_mode = 'categorical',\n",
    "    batch_size = 32)"
   ]
  },
  {
   "cell_type": "code",
   "execution_count": 22,
   "metadata": {},
   "outputs": [],
   "source": [
    "base_model = EfficientNetB7(\n",
    "    input_shape=(224,224,3),\n",
    "    include_top=False,\n",
    "    weights=\"imagenet\")"
   ]
  },
  {
   "cell_type": "code",
   "execution_count": 23,
   "metadata": {},
   "outputs": [],
   "source": [
    "for layer in base_model.layers[:-10]:\n",
    "    layer.trainable=False"
   ]
  },
  {
   "cell_type": "code",
   "execution_count": 24,
   "metadata": {},
   "outputs": [],
   "source": [
    "model=Sequential()\n",
    "\n",
    "model.add(base_model)\n",
    "model.add(Dropout(0.5))\n",
    "model.add(Flatten())\n",
    "model.add(BatchNormalization())\n",
    "model.add(Dense(32))\n",
    "model.add(BatchNormalization())\n",
    "model.add(Activation('relu'))\n",
    "model.add(Dropout(0.5))\n",
    "model.add(Dense(32))\n",
    "model.add(BatchNormalization())\n",
    "model.add(Activation('relu'))\n",
    "model.add(Dense(4,activation='softmax'))"
   ]
  },
  {
   "cell_type": "code",
   "execution_count": 25,
   "metadata": {},
   "outputs": [],
   "source": [
    "lr = ReduceLROnPlateau(monitor = 'val_loss',patience = 4,verbose = 1,factor = 0.5, min_lr = 0.001)\n",
    "mcp = ModelCheckpoint('efcnt_model.h5')\n",
    "es = EarlyStopping(verbose=1, patience=4)"
   ]
  },
  {
   "cell_type": "code",
   "execution_count": 26,
   "metadata": {},
   "outputs": [],
   "source": [
    "def f1_score(y_true, y_pred):\n",
    "    true_positives = K.sum(K.round(K.clip(y_true * y_pred, 0, 1)))\n",
    "    possible_positives = K.sum(K.round(K.clip(y_true, 0, 1)))\n",
    "    predicted_positives = K.sum(K.round(K.clip(y_pred, 0, 1)))\n",
    "    precision = true_positives / (predicted_positives + K.epsilon())\n",
    "    recall = true_positives / (possible_positives + K.epsilon())\n",
    "    return 2*(precision*recall)/(precision+recall+K.epsilon())"
   ]
  },
  {
   "cell_type": "code",
   "execution_count": 27,
   "metadata": {},
   "outputs": [],
   "source": [
    "METRICS = [\n",
    "      BinaryAccuracy(name='accuracy'),\n",
    "      Precision(name='precision'),\n",
    "      Recall(name='recall'),  \n",
    "      AUC(name='auc'),\n",
    "      f1_score\n",
    "]"
   ]
  },
  {
   "cell_type": "code",
   "execution_count": 28,
   "metadata": {},
   "outputs": [],
   "source": [
    "model.compile(optimizer='Adam', loss='categorical_crossentropy',metrics=METRICS)"
   ]
  },
  {
   "cell_type": "code",
   "execution_count": 29,
   "metadata": {},
   "outputs": [
    {
     "name": "stdout",
     "output_type": "stream",
     "text": [
      "Model: \"sequential_1\"\n",
      "_________________________________________________________________\n",
      " Layer (type)                Output Shape              Param #   \n",
      "=================================================================\n",
      " efficientnetb7 (Functional)  (None, 7, 7, 2560)       64097687  \n",
      "                                                                 \n",
      " dropout_2 (Dropout)         (None, 7, 7, 2560)        0         \n",
      "                                                                 \n",
      " flatten_1 (Flatten)         (None, 125440)            0         \n",
      "                                                                 \n",
      " batch_normalization_3 (Batc  (None, 125440)           501760    \n",
      " hNormalization)                                                 \n",
      "                                                                 \n",
      " dense_3 (Dense)             (None, 32)                4014112   \n",
      "                                                                 \n",
      " batch_normalization_4 (Batc  (None, 32)               128       \n",
      " hNormalization)                                                 \n",
      "                                                                 \n",
      " activation_2 (Activation)   (None, 32)                0         \n",
      "                                                                 \n",
      " dropout_3 (Dropout)         (None, 32)                0         \n",
      "                                                                 \n",
      " dense_4 (Dense)             (None, 32)                1056      \n",
      "                                                                 \n",
      " batch_normalization_5 (Batc  (None, 32)               128       \n",
      " hNormalization)                                                 \n",
      "                                                                 \n",
      " activation_3 (Activation)   (None, 32)                0         \n",
      "                                                                 \n",
      " dense_5 (Dense)             (None, 4)                 132       \n",
      "                                                                 \n",
      "=================================================================\n",
      "Total params: 68,615,003\n",
      "Trainable params: 9,601,508\n",
      "Non-trainable params: 59,013,495\n",
      "_________________________________________________________________\n"
     ]
    }
   ],
   "source": [
    "model.summary()"
   ]
  },
  {
   "cell_type": "code",
   "execution_count": 30,
   "metadata": {},
   "outputs": [
    {
     "name": "stdout",
     "output_type": "stream",
     "text": [
      "Epoch 1/15\n",
      "20/20 [==============================] - 55s 2s/step - loss: 1.6017 - accuracy: 0.7100 - precision: 0.2851 - recall: 0.1060 - auc: 0.5212 - f1_score: 0.1451 - val_loss: 1.5039 - val_accuracy: 0.6905 - val_precision: 0.3810 - val_recall: 0.3810 - val_auc: 0.6163 - val_f1_score: 0.3796 - lr: 0.0010\n",
      "Epoch 2/15\n",
      "20/20 [==============================] - 31s 2s/step - loss: 1.4960 - accuracy: 0.7268 - precision: 0.2824 - recall: 0.0604 - auc: 0.5443 - f1_score: 0.1082 - val_loss: 1.3245 - val_accuracy: 0.7500 - val_precision: 0.0000e+00 - val_recall: 0.0000e+00 - val_auc: 0.6181 - val_f1_score: 0.0000e+00 - lr: 0.0010\n",
      "Epoch 3/15\n",
      "20/20 [==============================] - 31s 2s/step - loss: 1.4738 - accuracy: 0.7300 - precision: 0.2474 - recall: 0.0392 - auc: 0.5316 - f1_score: 0.0626 - val_loss: 1.3922 - val_accuracy: 0.7500 - val_precision: 0.0000e+00 - val_recall: 0.0000e+00 - val_auc: 0.5364 - val_f1_score: 0.0000e+00 - lr: 0.0010\n",
      "Epoch 4/15\n",
      "20/20 [==============================] - 31s 2s/step - loss: 1.4881 - accuracy: 0.7276 - precision: 0.2105 - recall: 0.0326 - auc: 0.5119 - f1_score: 0.0634 - val_loss: 1.4105 - val_accuracy: 0.7500 - val_precision: 0.0000e+00 - val_recall: 0.0000e+00 - val_auc: 0.4957 - val_f1_score: 0.0000e+00 - lr: 0.0010\n",
      "Epoch 5/15\n",
      "20/20 [==============================] - 31s 2s/step - loss: 1.4782 - accuracy: 0.7365 - precision: 0.2609 - recall: 0.0294 - auc: 0.5150 - f1_score: 0.0606 - val_loss: 1.3967 - val_accuracy: 0.7500 - val_precision: 0.0000e+00 - val_recall: 0.0000e+00 - val_auc: 0.5417 - val_f1_score: 0.0000e+00 - lr: 0.0010\n",
      "Epoch 6/15\n",
      "20/20 [==============================] - 31s 2s/step - loss: 1.4393 - accuracy: 0.7402 - precision: 0.2273 - recall: 0.0163 - auc: 0.5419 - f1_score: 0.0291 - val_loss: 1.3739 - val_accuracy: 0.7500 - val_precision: 0.0000e+00 - val_recall: 0.0000e+00 - val_auc: 0.5298 - val_f1_score: 0.0000e+00 - lr: 0.0010\n",
      "Epoch 6: early stopping\n"
     ]
    }
   ],
   "source": [
    "efcnt_model = model.fit(train_dataset,validation_data = validation_dataset , epochs = 15, callbacks=[lr,mcp,es])"
   ]
  },
  {
   "cell_type": "code",
   "execution_count": 31,
   "metadata": {},
   "outputs": [
    {
     "name": "stdout",
     "output_type": "stream",
     "text": [
      "3/3 [==============================] - 4s 2s/step - loss: 1.4234 - accuracy: 0.7500 - precision: 0.0000e+00 - recall: 0.0000e+00 - auc: 0.4375 - f1_score: 0.0000e+00\n"
     ]
    }
   ],
   "source": [
    "model_eval = model.evaluate(test_dataset)"
   ]
  },
  {
   "cell_type": "code",
   "execution_count": 32,
   "metadata": {},
   "outputs": [
    {
     "data": {
      "image/png": "[encoded data removed]",
      "text/plain": [
       "<Figure size 1440x288 with 4 Axes>"
      ]
     },
     "metadata": {
      "needs_background": "light"
     },
     "output_type": "display_data"
    }
   ],
   "source": [
    "# PLOTTING RESULTS\n",
    "\n",
    "def Train_Val_Plot(acc,val_acc,loss,val_loss,auc,val_auc,f1,val_f1):\n",
    "    \n",
    "    fig, (ax1,ax2,ax3,ax4) = plt.subplots(1,4, figsize= (20,4))\n",
    "    fig.suptitle(\" EfficientNetB7 METRICS PLOT\")\n",
    "\n",
    "    ax1.plot(range(1, len(acc) + 1), acc)\n",
    "    ax1.plot(range(1, len(val_acc) + 1), val_acc)\n",
    "    ax1.set_title('Accuracy vs Epochs')\n",
    "    ax1.set_xlabel('Epochs')\n",
    "    ax1.set_ylabel('Accuracy')\n",
    "    ax1.legend(['training', 'validation'])\n",
    "\n",
    "\n",
    "    ax2.plot(range(1, len(loss) + 1), loss)\n",
    "    ax2.plot(range(1, len(val_loss) + 1), val_loss)\n",
    "    ax2.set_title('Loss vs Epochs')\n",
    "    ax2.set_xlabel('Epochs')\n",
    "    ax2.set_ylabel('Loss')\n",
    "    ax2.legend(['training', 'validation'])\n",
    "    \n",
    "    ax3.plot(range(1, len(auc) + 1), auc)\n",
    "    ax3.plot(range(1, len(val_auc) + 1), val_auc)\n",
    "    ax3.set_title('AUC vs Epochs')\n",
    "    ax3.set_xlabel('Epochs')\n",
    "    ax3.set_ylabel('AUC')\n",
    "    ax3.legend(['training', 'validation'])\n",
    "    \n",
    "    ax4.plot(range(1, len(f1) + 1), f1)\n",
    "    ax4.plot(range(1, len(val_f1) + 1), val_f1)\n",
    "    ax4.set_title('F1-score vs Epochs')\n",
    "    ax4.set_xlabel('Epochs')\n",
    "    ax4.set_ylabel('F1 score')\n",
    "    ax4.legend(['training', 'validation'])\n",
    "\n",
    "    plt.show()\n",
    "\n",
    "Train_Val_Plot(efcnt_model.history['accuracy'],efcnt_model.history['val_accuracy'],\n",
    "               efcnt_model.history['loss'],efcnt_model.history['val_loss'],\n",
    "               efcnt_model.history['auc'],efcnt_model.history['val_auc'],\n",
    "               efcnt_model.history['f1_score'],efcnt_model.history['val_f1_score']\n",
    "              )"
   ]
  }
 ],
 "metadata": {
  "kernelspec": {
   "display_name": "Python 3.8.5 64-bit",
   "language": "python",
   "name": "python3"
  },
  "language_info": {
   "codemirror_mode": {
    "name": "ipython",
    "version": 3
   },
   "file_extension": ".py",
   "mimetype": "text/x-python",
   "name": "python",
   "nbconvert_exporter": "python",
   "pygments_lexer": "ipython3",
   "version": "3.8.5"
  },
  "orig_nbformat": 4,
  "vscode": {
   "interpreter": {
    "hash": "3cadd6c3d99ae72ba3b0b13311fd373988109455131e58c784babf1e443b79a1"
   }
  }
 },
 "nbformat": 4,
 "nbformat_minor": 2
}
